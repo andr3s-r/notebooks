{
  "cells": [
    {
      "metadata": {
        "trusted": true
      },
      "cell_type": "code",
      "source": "#DATA TYPES\n#Boolean\nprint('Boolean')\nT=bool(1)\nF=bool(0)\nprint('',T,'\\n',F)\nprint('')\n\n#String\nprint('String')\nHe='Hello'\nWo='World!'\nprint('',He,'\\n',Wo)\nprint('')\n\n#Integers\nprint('Int and Float')\nnum=int(1)\nflo=float(3.1415)\nprint('',num,'\\n',flo)\nprint('')\n#Complex Numbers\nprint('Complex Numbers')\nc_num=complex(8)\nc_phasor=complex(3,4)\nprint('',c_num,'\\n',c_phasor)\n    ",
      "execution_count": 16,
      "outputs": [
        {
          "output_type": "stream",
          "text": "Boolean\n True \n False\n\nString\n Hello \n World!\n\nInt and Float\n 1 \n 3.1415\n\nComplex Numbers\n (8+0j) \n (3+4j)\n",
          "name": "stdout"
        }
      ]
    },
    {
      "metadata": {
        "trusted": true
      },
      "cell_type": "code",
      "source": "#String Operations\nprint('String Operations\\n')\nName='Paulina Grubiak'\n#extracting data from the string using brackets ans range\nprint('\\t'+Name)\n#length of the string\nprint('\\t 012 8. = ',Name[0:3],Name[8]+'.')\nprint('\\tString Length: ',len(Name),'elements\\n')\n\nNumb='0123456789'\n\nprint('\\tSequence: ',Numb)\nprint('\\tPair #s: ',Numb[::2])\nprint('\\tEven #s: ',Numb[1::2],'\\n')\n\n#String Methods\nprint('String Methods')\nteam='Atlas FC '\nprint(team)\nprint(team.lower())\nprint(team.upper()*4)\n\n\n",
      "execution_count": 50,
      "outputs": [
        {
          "output_type": "stream",
          "text": "String Operations\n\n\tPaulina Grubiak\n\t 012 8. =  Pau G.\n\tString Length:  15 elements\n\n\tSequence:  0123456789\n\tPair #s:  02468\n\tEven #s:  13579 \n\nString Methods\nAtlas FC \natlas fc \nATLAS FC ATLAS FC ATLAS FC ATLAS FC \n",
          "name": "stdout"
        }
      ]
    },
    {
      "metadata": {
        "trusted": true
      },
      "cell_type": "markdown",
      "source": "# Tuples and Lists"
    },
    {
      "metadata": {
        "trusted": true
      },
      "cell_type": "code",
      "source": "#TUPLES accept multiple types and are IMMUTABLE!\ntuple1=('Diego','Maradona',10)\nprint(tuple1[0],tuple1[-1])  #USING NEGATIVE INDEXES\n\n#NESTING TUPPLES\ntuple2=(1986,'Mexico',tuple1)\nprint(tuple2[2][1])\n\n#FUNCTIONS\ntuple3=(13,6,36,16,31,9,39,96,3)\nprint(tuple3)\ntuple4=sorted(tuple3)\nprint(tuple4)\n\n#LISTS CAN BE MODIFIED: ARE MUTABLE!\n#SQUARE BRACKETS\nfecha=[28,'March',2020]\nprint(fecha)\nplace=['Warsaw',fecha[2]]\nprint(place)\ncity=place[0]\nflat=place.extend(['Inzynierzka',10])\nprint(place)\n#DELETING 2020\ndel(place[1])\nprint(place)\n#ADDING 1 ELEMENT OF 3 ELEMNETS INSIDE\nplace.append(['Int.',6,'CP 03422'])\nprint(place[3])\n#EXTRACTING FROM NESTED LIST\nprint(place[3][2])",
      "execution_count": 32,
      "outputs": [
        {
          "output_type": "stream",
          "text": "Diego 10\nMaradona\n(13, 6, 36, 16, 31, 9, 39, 96, 3)\n[3, 6, 9, 13, 16, 31, 36, 39, 96]\n[28, 'March', 2020]\n['Warsaw', 2020]\n['Warsaw', 2020, 'Inzynierzka', 10]\n['Warsaw', 'Inzynierzka', 10]\n['Int.', 6, 'CP 03422']\nCP 03422\n",
          "name": "stdout"
        }
      ]
    },
    {
      "metadata": {
        "trusted": true
      },
      "cell_type": "code",
      "source": "",
      "execution_count": null,
      "outputs": []
    },
    {
      "metadata": {
        "trusted": true
      },
      "cell_type": "code",
      "source": "",
      "execution_count": null,
      "outputs": []
    }
  ],
  "metadata": {
    "kernelspec": {
      "name": "python3",
      "display_name": "Python 3",
      "language": "python"
    },
    "language_info": {
      "mimetype": "text/x-python",
      "nbconvert_exporter": "python",
      "name": "python",
      "pygments_lexer": "ipython3",
      "version": "3.5.4",
      "file_extension": ".py",
      "codemirror_mode": {
        "version": 3,
        "name": "ipython"
      }
    }
  },
  "nbformat": 4,
  "nbformat_minor": 2
}